{
 "cells": [
  {
   "cell_type": "code",
   "execution_count": null,
   "id": "e3467b96",
   "metadata": {},
   "outputs": [],
   "source": [
    "# Import required libraries\n",
    "import os\n",
    "import json\n",
    "import numpy as np\n",
    "import pandas as pd\n",
    "import matplotlib.pyplot as plt\n",
    "from PIL import Image, ImageDraw, ImageFont"
   ]
  },
  {
   "cell_type": "code",
   "execution_count": null,
   "id": "2ec59d0c",
   "metadata": {},
   "outputs": [],
   "source": [
    "# Sample data\n",
    "data = [\n",
    "    {\n",
    "        \"Pregnancies\": 6.0,\n",
    "        \"Glucose\": 148.0,\n",
    "        \"BloodPressure\": 72.0,\n",
    "        \"SkinThickness\": 35.0,\n",
    "        \"Insulin\": 0.0,\n",
    "        \"BMI\": 33.6,\n",
    "        \"DiabetesPedigreeFunction\": 0.627,\n",
    "        \"Age\": 50.0,\n",
    "        \"Outcome\": 1.0\n",
    "    },\n",
    "    {\n",
    "        \"Pregnancies\": 1.0,\n",
    "        \"Glucose\": 85.0,\n",
    "        \"BloodPressure\": 66.0,\n",
    "        \"SkinThickness\": 29.0,\n",
    "        \"Insulin\": 0.0,\n",
    "        \"BMI\": 26.6,\n",
    "        \"DiabetesPedigreeFunction\": 0.351,\n",
    "        \"Age\": 31.0,\n",
    "        \"Outcome\": 0.0\n",
    "    },\n",
    "    {\n",
    "        \"Pregnancies\": 8.0,\n",
    "        \"Glucose\": 183.0,\n",
    "        \"BloodPressure\": 64.0,\n",
    "        \"SkinThickness\": 0.0,\n",
    "        \"Insulin\": 0.0,\n",
    "        \"BMI\": 23.3,\n",
    "        \"DiabetesPedigreeFunction\": 0.672,\n",
    "        \"Age\": 32.0,\n",
    "        \"Outcome\": 1.0\n",
    "    }\n",
    "]"
   ]
  }
 ],
 "metadata": {
  "language_info": {
   "name": "python"
  }
 },
 "nbformat": 4,
 "nbformat_minor": 5
}
