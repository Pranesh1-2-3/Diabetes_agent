{
 "cells": [
  {
   "cell_type": "markdown",
   "id": "c65f1e78",
   "metadata": {},
   "source": [
    "# Phase 4: Classifier Development & Explainability\n",
    "\n",
    "This notebook implements a robust classifier with feature engineering, model training, and SHAP-based explainability.\n",
    "\n",
    "## Contents:\n",
    "1. Data Loading and Preprocessing\n",
    "2. Feature Engineering Pipeline\n",
    "3. Model Training and Evaluation\n",
    "4. SHAP Analysis Implementation\n",
    "5. Model Persistence\n",
    "6. FastAPI Integration Testing"
   ]
  },
  {
   "cell_type": "code",
   "execution_count": 3,
   "id": "f9945bf5",
   "metadata": {},
   "outputs": [],
   "source": [
    "# Import required libraries\n",
    "import pandas as pd\n",
    "import numpy as np\n",
    "from sklearn.model_selection import train_test_split, cross_val_score\n",
    "from sklearn.preprocessing import StandardScaler, LabelEncoder\n",
    "from sklearn.impute import SimpleImputer\n",
    "from sklearn.pipeline import Pipeline\n",
    "from sklearn.compose import ColumnTransformer\n",
    "from sklearn.linear_model import LogisticRegression\n",
    "from sklearn.neural_network import MLPClassifier\n",
    "import xgboost as xgb\n",
    "import shap\n",
    "import joblib\n",
    "from pathlib import Path\n",
    "\n",
    "# Set random seed for reproducibility\n",
    "np.random.seed(42)"
   ]
  },
  {
   "cell_type": "markdown",
   "id": "f521697b",
   "metadata": {},
   "source": [
    "## 1. Data Loading and Preprocessing"
   ]
  },
  {
   "cell_type": "code",
   "execution_count": 4,
   "id": "e7aea6d5",
   "metadata": {},
   "outputs": [
    {
     "name": "stdout",
     "output_type": "stream",
     "text": [
      "Training set shape: (614, 8)\n",
      "Test set shape: (154, 8)\n"
     ]
    }
   ],
   "source": [
    "# Load the processed dataset\n",
    "data = pd.read_csv('../data/raw/diabetes.csv')\n",
    "\n",
    "# Split features and target\n",
    "X = data.drop('Outcome', axis=1)\n",
    "y = data['Outcome']\n",
    "\n",
    "# Split into train and test sets\n",
    "X_train, X_test, y_train, y_test = train_test_split(\n",
    "    X, y, test_size=0.2, random_state=42\n",
    ")\n",
    "\n",
    "print(f\"Training set shape: {X_train.shape}\")\n",
    "print(f\"Test set shape: {X_test.shape}\")"
   ]
  },
  {
   "cell_type": "markdown",
   "id": "9d0ce4c1",
   "metadata": {},
   "source": [
    "## 2. Feature Engineering Pipeline"
   ]
  },
  {
   "cell_type": "code",
   "execution_count": 5,
   "id": "f9faebc2",
   "metadata": {},
   "outputs": [],
   "source": [
    "# Define numeric features\n",
    "numeric_features = X.columns.tolist()\n",
    "\n",
    "# Create preprocessing pipelines\n",
    "numeric_transformer = Pipeline(steps=[\n",
    "    ('imputer', SimpleImputer(strategy='median')),\n",
    "    ('scaler', StandardScaler())\n",
    "])\n",
    "\n",
    "# Combine preprocessing steps\n",
    "preprocessor = ColumnTransformer(\n",
    "    transformers=[\n",
    "        ('num', numeric_transformer, numeric_features)\n",
    "    ])\n",
    "\n",
    "# Create model pipelines\n",
    "models = {\n",
    "    'logistic': Pipeline([\n",
    "        ('preprocessor', preprocessor),\n",
    "        ('classifier', LogisticRegression(random_state=42))\n",
    "    ]),\n",
    "    'xgboost': Pipeline([\n",
    "        ('preprocessor', preprocessor),\n",
    "        ('classifier', xgb.XGBClassifier(random_state=42))\n",
    "    ]),\n",
    "    'mlp': Pipeline([\n",
    "        ('preprocessor', preprocessor),\n",
    "        ('classifier', MLPClassifier(hidden_layer_sizes=(32, 16), \n",
    "                                    max_iter=1000, \n",
    "                                    random_state=42))\n",
    "    ])\n",
    "}"
   ]
  },
  {
   "cell_type": "markdown",
   "id": "a1397e0d",
   "metadata": {},
   "source": [
    "## 3. Model Training and Evaluation"
   ]
  },
  {
   "cell_type": "code",
   "execution_count": 6,
   "id": "d54f0eae",
   "metadata": {},
   "outputs": [
    {
     "name": "stdout",
     "output_type": "stream",
     "text": [
      "\n",
      "LOGISTIC:\n",
      "CV ROC-AUC: 0.832 (+/- 0.021)\n",
      "\n",
      "XGBOOST:\n",
      "CV ROC-AUC: 0.809 (+/- 0.049)\n"
     ]
    },
    {
     "name": "stderr",
     "output_type": "stream",
     "text": [
      "C:\\Users\\prane\\AppData\\Local\\Programs\\Python\\Python311\\Lib\\site-packages\\sklearn\\neural_network\\_multilayer_perceptron.py:691: ConvergenceWarning: Stochastic Optimizer: Maximum iterations (1000) reached and the optimization hasn't converged yet.\n",
      "  warnings.warn(\n",
      "C:\\Users\\prane\\AppData\\Local\\Programs\\Python\\Python311\\Lib\\site-packages\\sklearn\\neural_network\\_multilayer_perceptron.py:691: ConvergenceWarning: Stochastic Optimizer: Maximum iterations (1000) reached and the optimization hasn't converged yet.\n",
      "  warnings.warn(\n",
      "C:\\Users\\prane\\AppData\\Local\\Programs\\Python\\Python311\\Lib\\site-packages\\sklearn\\neural_network\\_multilayer_perceptron.py:691: ConvergenceWarning: Stochastic Optimizer: Maximum iterations (1000) reached and the optimization hasn't converged yet.\n",
      "  warnings.warn(\n",
      "C:\\Users\\prane\\AppData\\Local\\Programs\\Python\\Python311\\Lib\\site-packages\\sklearn\\neural_network\\_multilayer_perceptron.py:691: ConvergenceWarning: Stochastic Optimizer: Maximum iterations (1000) reached and the optimization hasn't converged yet.\n",
      "  warnings.warn(\n",
      "C:\\Users\\prane\\AppData\\Local\\Programs\\Python\\Python311\\Lib\\site-packages\\sklearn\\neural_network\\_multilayer_perceptron.py:691: ConvergenceWarning: Stochastic Optimizer: Maximum iterations (1000) reached and the optimization hasn't converged yet.\n",
      "  warnings.warn(\n"
     ]
    },
    {
     "name": "stdout",
     "output_type": "stream",
     "text": [
      "\n",
      "MLP:\n",
      "CV ROC-AUC: 0.781 (+/- 0.080)\n",
      "\n",
      "Best model: logistic\n"
     ]
    }
   ],
   "source": [
    "# Train and evaluate models\n",
    "results = {}\n",
    "\n",
    "for name, model in models.items():\n",
    "    # Perform cross-validation\n",
    "    cv_scores = cross_val_score(model, X_train, y_train, \n",
    "                               cv=5, scoring='roc_auc')\n",
    "    \n",
    "    # Fit model on full training data\n",
    "    model.fit(X_train, y_train)\n",
    "    \n",
    "    # Store results\n",
    "    results[name] = {\n",
    "        'cv_mean': cv_scores.mean(),\n",
    "        'cv_std': cv_scores.std(),\n",
    "        'model': model\n",
    "    }\n",
    "    \n",
    "    print(f\"\\n{name.upper()}:\")\n",
    "    print(f\"CV ROC-AUC: {cv_scores.mean():.3f} (+/- {cv_scores.std() * 2:.3f})\")\n",
    "\n",
    "# Select best model\n",
    "best_model_name = max(results, key=lambda k: results[k]['cv_mean'])\n",
    "best_model = results[best_model_name]['model']\n",
    "print(f\"\\nBest model: {best_model_name}\")"
   ]
  },
  {
   "cell_type": "markdown",
   "id": "06747936",
   "metadata": {},
   "source": [
    "## 4. SHAP Analysis Implementation"
   ]
  },
  {
   "cell_type": "code",
   "execution_count": 8,
   "id": "b7fdac7e",
   "metadata": {},
   "outputs": [
    {
     "name": "stdout",
     "output_type": "stream",
     "text": [
      "Top 3 important features for sample predictions:\n"
     ]
    },
    {
     "name": "stderr",
     "output_type": "stream",
     "text": [
      " ... (more hidden) ...\n"
     ]
    },
    {
     "name": "stdout",
     "output_type": "stream",
     "text": [
      "\n",
      "Sample 63:\n",
      "Pregnancies: 0.000\n",
      "Glucose: 0.000\n"
     ]
    },
    {
     "name": "stderr",
     "output_type": "stream",
     "text": [
      " ... (more hidden) ...\n"
     ]
    },
    {
     "name": "stdout",
     "output_type": "stream",
     "text": [
      "\n",
      "Sample 720:\n",
      "Pregnancies: 0.000\n",
      "Glucose: 0.000\n"
     ]
    },
    {
     "name": "stderr",
     "output_type": "stream",
     "text": [
      " ... (more hidden) ..."
     ]
    },
    {
     "name": "stdout",
     "output_type": "stream",
     "text": [
      "\n",
      "Sample 636:\n",
      "Pregnancies: 0.000\n",
      "Glucose: 0.000\n"
     ]
    },
    {
     "name": "stderr",
     "output_type": "stream",
     "text": [
      "\n"
     ]
    }
   ],
   "source": [
    "def get_shap_values(model, X_sample):\n",
    "    \"\"\"Calculate SHAP values for a sample.\"\"\"\n",
    "    # Get preprocessed data\n",
    "    X_processed = model.named_steps['preprocessor'].transform(X_sample)\n",
    "    \n",
    "    # Get feature names\n",
    "    feature_names = X_sample.columns.tolist()\n",
    "    \n",
    "    # Initialize SHAP explainer\n",
    "    if isinstance(model.named_steps['classifier'], xgb.XGBClassifier):\n",
    "        explainer = shap.TreeExplainer(model.named_steps['classifier'])\n",
    "    else:\n",
    "        explainer = shap.KernelExplainer(\n",
    "            model.named_steps['classifier'].predict_proba, \n",
    "            X_processed[:100]  # Use subset for kernel explainer\n",
    "        )\n",
    "    \n",
    "    # Calculate SHAP values\n",
    "    shap_values = explainer.shap_values(X_processed)\n",
    "\n",
    "    # Handle different output formats\n",
    "    if isinstance(shap_values, list):\n",
    "        # TreeExplainer with classification returns list (per class)\n",
    "        shap_values = shap_values[1] if len(shap_values) > 1 else shap_values[0]\n",
    "    else:\n",
    "        shap_values = np.array(shap_values)\n",
    "        if shap_values.ndim == 3:  \n",
    "            # (n_samples, n_classes, n_features) → average over classes\n",
    "            shap_values = shap_values.mean(axis=1)\n",
    "\n",
    "    # Ensure it's 2D: (n_samples, n_features)\n",
    "    shap_values = shap_values.reshape(shap_values.shape[0], -1)\n",
    "\n",
    "    # Aggregate feature importance\n",
    "    feature_importance = list(zip(\n",
    "        feature_names, \n",
    "        np.abs(shap_values).mean(axis=0).tolist()\n",
    "    ))\n",
    "\n",
    "    # Sort safely by float values\n",
    "    feature_importance.sort(key=lambda x: float(x[1]), reverse=True)\n",
    "    \n",
    "    return feature_importance\n",
    "\n",
    "\n",
    "# Test SHAP analysis on a few samples\n",
    "sample_indices = np.random.choice(len(X_test), 3)\n",
    "X_samples = X_test.iloc[sample_indices]\n",
    "\n",
    "print(\"Top 3 important features for sample predictions:\")\n",
    "for idx, sample in X_samples.iterrows():\n",
    "    feature_importance = get_shap_values(\n",
    "        best_model, pd.DataFrame([sample], columns=X_test.columns)\n",
    "    )\n",
    "    print(f\"\\nSample {idx}:\")\n",
    "    for feature, importance in feature_importance[:3]:\n",
    "        print(f\"{feature}: {importance:.3f}\")\n"
   ]
  },
  {
   "cell_type": "markdown",
   "id": "098a25ef",
   "metadata": {},
   "source": [
    "## 5. Model Persistence"
   ]
  },
  {
   "cell_type": "code",
   "execution_count": 9,
   "id": "9af391a0",
   "metadata": {},
   "outputs": [
    {
     "name": "stdout",
     "output_type": "stream",
     "text": [
      "Model saved to ../models/logistic.joblib\n",
      "Feature names saved to models/feature_names.joblib\n"
     ]
    }
   ],
   "source": [
    "# Create models directory if it doesn't exist\n",
    "Path('../models').mkdir(exist_ok=True)\n",
    "\n",
    "# Save the best model\n",
    "model_path = f'../models/{best_model_name}.joblib'\n",
    "joblib.dump(best_model, model_path)\n",
    "print(f\"Model saved to {model_path}\")\n",
    "\n",
    "# Save feature names for API use\n",
    "feature_names = {\n",
    "    'features': X.columns.tolist()\n",
    "}\n",
    "joblib.dump(feature_names, '../models/feature_names.joblib')\n",
    "print(\"Feature names saved to models/feature_names.joblib\")"
   ]
  },
  {
   "cell_type": "markdown",
   "id": "96e7d386",
   "metadata": {},
   "source": [
    "## 6. FastAPI Integration Testing"
   ]
  },
  {
   "cell_type": "code",
   "execution_count": 10,
   "id": "55bc6f14",
   "metadata": {},
   "outputs": [
    {
     "name": "stdout",
     "output_type": "stream",
     "text": [
      "Testing prediction endpoint...\n",
      "Error connecting to API: HTTPConnectionPool(host='localhost', port=8000): Max retries exceeded with url: /predict (Caused by NewConnectionError('<urllib3.connection.HTTPConnection object at 0x000001CDAF77C8D0>: Failed to establish a new connection: [WinError 10061] No connection could be made because the target machine actively refused it'))\n"
     ]
    }
   ],
   "source": [
    "import requests\n",
    "\n",
    "def test_prediction_endpoint(sample_data):\n",
    "    \"\"\"Test the FastAPI prediction endpoint.\"\"\"\n",
    "    url = \"http://localhost:8000/predict\"\n",
    "    \n",
    "    try:\n",
    "        response = requests.post(url, json=sample_data)\n",
    "        if response.status_code == 200:\n",
    "            result = response.json()\n",
    "            print(\"Prediction result:\")\n",
    "            print(f\"Probability: {result['probability']:.3f}\")\n",
    "            print(f\"Predicted Label: {result['label']}\")\n",
    "            print(\"\\nTop contributing features:\")\n",
    "            for feature in result['top_features_shap']:\n",
    "                print(f\"{feature['name']}: {feature['importance']:.3f}\")\n",
    "        else:\n",
    "            print(f\"Error: {response.status_code}\")\n",
    "            print(response.text)\n",
    "    except Exception as e:\n",
    "        print(f\"Error connecting to API: {e}\")\n",
    "\n",
    "# Create a sample test case\n",
    "sample_data = X_test.iloc[0].to_dict()\n",
    "\n",
    "print(\"Testing prediction endpoint...\")\n",
    "test_prediction_endpoint(sample_data)"
   ]
  },
  {
   "cell_type": "code",
   "execution_count": null,
   "id": "32595fa2-3972-4790-ae86-73bc64e4b6a0",
   "metadata": {},
   "outputs": [],
   "source": []
  }
 ],
 "metadata": {
  "kernelspec": {
   "display_name": "Python 3 (ipykernel)",
   "language": "python",
   "name": "python3"
  },
  "language_info": {
   "codemirror_mode": {
    "name": "ipython",
    "version": 3
   },
   "file_extension": ".py",
   "mimetype": "text/x-python",
   "name": "python",
   "nbconvert_exporter": "python",
   "pygments_lexer": "ipython3",
   "version": "3.11.5"
  }
 },
 "nbformat": 4,
 "nbformat_minor": 5
}
